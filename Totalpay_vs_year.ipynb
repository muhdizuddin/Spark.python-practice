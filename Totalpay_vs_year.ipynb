{
  "nbformat": 4,
  "nbformat_minor": 0,
  "metadata": {
    "colab": {
      "name": "Totalpay vs year.ipynb",
      "provenance": []
    },
    "kernelspec": {
      "name": "python3",
      "display_name": "Python 3"
    }
  },
  "cells": [
    {
      "cell_type": "code",
      "metadata": {
        "id": "PIaludz6e242",
        "colab": {
          "base_uri": "https://localhost:8080/",
          "height": 71
        },
        "outputId": "00db9dde-61f2-4b2b-b3cb-18e572433a6a"
      },
      "source": [
        "import numpy as np\n",
        "import pandas as pd\n",
        "import matplotlib.pyplot as plt\n",
        "import seaborn as sns"
      ],
      "execution_count": null,
      "outputs": [
        {
          "output_type": "stream",
          "text": [
            "/usr/local/lib/python3.6/dist-packages/statsmodels/tools/_testing.py:19: FutureWarning: pandas.util.testing is deprecated. Use the functions in the public API at pandas.testing instead.\n",
            "  import pandas.util.testing as tm\n"
          ],
          "name": "stderr"
        }
      ]
    },
    {
      "cell_type": "code",
      "metadata": {
        "id": "WHpsHmTHgJih",
        "colab": {
          "base_uri": "https://localhost:8080/",
          "height": 71
        },
        "outputId": "015dc010-c04b-41f9-851b-1cbd38d84cfe"
      },
      "source": [
        "path = \"data/Salaries.csv\"\n",
        "df = pd.read_csv(path)"
      ],
      "execution_count": null,
      "outputs": [
        {
          "output_type": "stream",
          "text": [
            "/usr/local/lib/python3.6/dist-packages/IPython/core/interactiveshell.py:2718: DtypeWarning: Columns (3,4,5,6,12) have mixed types.Specify dtype option on import or set low_memory=False.\n",
            "  interactivity=interactivity, compiler=compiler, result=result)\n"
          ],
          "name": "stderr"
        }
      ]
    },
    {
      "cell_type": "code",
      "metadata": {
        "id": "ozssgGNBhiBt",
        "colab": {
          "base_uri": "https://localhost:8080/",
          "height": 479
        },
        "outputId": "1fa9712b-e91b-46de-9026-db0a50a97d2b"
      },
      "source": [
        "df.head()"
      ],
      "execution_count": null,
      "outputs": [
        {
          "output_type": "execute_result",
          "data": {
            "text/html": [
              "<div>\n",
              "<style scoped>\n",
              "    .dataframe tbody tr th:only-of-type {\n",
              "        vertical-align: middle;\n",
              "    }\n",
              "\n",
              "    .dataframe tbody tr th {\n",
              "        vertical-align: top;\n",
              "    }\n",
              "\n",
              "    .dataframe thead th {\n",
              "        text-align: right;\n",
              "    }\n",
              "</style>\n",
              "<table border=\"1\" class=\"dataframe\">\n",
              "  <thead>\n",
              "    <tr style=\"text-align: right;\">\n",
              "      <th></th>\n",
              "      <th>Id</th>\n",
              "      <th>EmployeeName</th>\n",
              "      <th>JobTitle</th>\n",
              "      <th>BasePay</th>\n",
              "      <th>OvertimePay</th>\n",
              "      <th>OtherPay</th>\n",
              "      <th>Benefits</th>\n",
              "      <th>TotalPay</th>\n",
              "      <th>TotalPayBenefits</th>\n",
              "      <th>Year</th>\n",
              "      <th>Notes</th>\n",
              "      <th>Agency</th>\n",
              "      <th>Status</th>\n",
              "    </tr>\n",
              "  </thead>\n",
              "  <tbody>\n",
              "    <tr>\n",
              "      <th>0</th>\n",
              "      <td>1</td>\n",
              "      <td>NATHANIEL FORD</td>\n",
              "      <td>GENERAL MANAGER-METROPOLITAN TRANSIT AUTHORITY</td>\n",
              "      <td>167411</td>\n",
              "      <td>0</td>\n",
              "      <td>400184</td>\n",
              "      <td>NaN</td>\n",
              "      <td>567595.43</td>\n",
              "      <td>567595.43</td>\n",
              "      <td>2011</td>\n",
              "      <td>NaN</td>\n",
              "      <td>San Francisco</td>\n",
              "      <td>NaN</td>\n",
              "    </tr>\n",
              "    <tr>\n",
              "      <th>1</th>\n",
              "      <td>2</td>\n",
              "      <td>GARY JIMENEZ</td>\n",
              "      <td>CAPTAIN III (POLICE DEPARTMENT)</td>\n",
              "      <td>155966</td>\n",
              "      <td>245132</td>\n",
              "      <td>137811</td>\n",
              "      <td>NaN</td>\n",
              "      <td>538909.28</td>\n",
              "      <td>538909.28</td>\n",
              "      <td>2011</td>\n",
              "      <td>NaN</td>\n",
              "      <td>San Francisco</td>\n",
              "      <td>NaN</td>\n",
              "    </tr>\n",
              "    <tr>\n",
              "      <th>2</th>\n",
              "      <td>3</td>\n",
              "      <td>ALBERT PARDINI</td>\n",
              "      <td>CAPTAIN III (POLICE DEPARTMENT)</td>\n",
              "      <td>212739</td>\n",
              "      <td>106088</td>\n",
              "      <td>16452.6</td>\n",
              "      <td>NaN</td>\n",
              "      <td>335279.91</td>\n",
              "      <td>335279.91</td>\n",
              "      <td>2011</td>\n",
              "      <td>NaN</td>\n",
              "      <td>San Francisco</td>\n",
              "      <td>NaN</td>\n",
              "    </tr>\n",
              "    <tr>\n",
              "      <th>3</th>\n",
              "      <td>4</td>\n",
              "      <td>CHRISTOPHER CHONG</td>\n",
              "      <td>WIRE ROPE CABLE MAINTENANCE MECHANIC</td>\n",
              "      <td>77916</td>\n",
              "      <td>56120.7</td>\n",
              "      <td>198307</td>\n",
              "      <td>NaN</td>\n",
              "      <td>332343.61</td>\n",
              "      <td>332343.61</td>\n",
              "      <td>2011</td>\n",
              "      <td>NaN</td>\n",
              "      <td>San Francisco</td>\n",
              "      <td>NaN</td>\n",
              "    </tr>\n",
              "    <tr>\n",
              "      <th>4</th>\n",
              "      <td>5</td>\n",
              "      <td>PATRICK GARDNER</td>\n",
              "      <td>DEPUTY CHIEF OF DEPARTMENT,(FIRE DEPARTMENT)</td>\n",
              "      <td>134402</td>\n",
              "      <td>9737</td>\n",
              "      <td>182235</td>\n",
              "      <td>NaN</td>\n",
              "      <td>326373.19</td>\n",
              "      <td>326373.19</td>\n",
              "      <td>2011</td>\n",
              "      <td>NaN</td>\n",
              "      <td>San Francisco</td>\n",
              "      <td>NaN</td>\n",
              "    </tr>\n",
              "  </tbody>\n",
              "</table>\n",
              "</div>"
            ],
            "text/plain": [
              "   Id       EmployeeName  ...         Agency Status\n",
              "0   1     NATHANIEL FORD  ...  San Francisco    NaN\n",
              "1   2       GARY JIMENEZ  ...  San Francisco    NaN\n",
              "2   3     ALBERT PARDINI  ...  San Francisco    NaN\n",
              "3   4  CHRISTOPHER CHONG  ...  San Francisco    NaN\n",
              "4   5    PATRICK GARDNER  ...  San Francisco    NaN\n",
              "\n",
              "[5 rows x 13 columns]"
            ]
          },
          "metadata": {
            "tags": []
          },
          "execution_count": 10
        }
      ]
    },
    {
      "cell_type": "code",
      "metadata": {
        "id": "2Sy7ParhhxlO",
        "colab": {
          "base_uri": "https://localhost:8080/",
          "height": 119
        },
        "outputId": "5bac23f1-7316-4108-b7f6-92319fdebb0b"
      },
      "source": [
        "df['BasePay'].head()"
      ],
      "execution_count": null,
      "outputs": [
        {
          "output_type": "execute_result",
          "data": {
            "text/plain": [
              "0    167411\n",
              "1    155966\n",
              "2    212739\n",
              "3     77916\n",
              "4    134402\n",
              "Name: BasePay, dtype: object"
            ]
          },
          "metadata": {
            "tags": []
          },
          "execution_count": 11
        }
      ]
    },
    {
      "cell_type": "code",
      "metadata": {
        "id": "WvHJ_wuiiR57",
        "colab": {
          "base_uri": "https://localhost:8080/",
          "height": 168
        },
        "outputId": "76bd258f-1000-49ae-a1e9-31417ee697b1"
      },
      "source": [
        "df[df.EmployeeName == \"PATRICK GARDNER\"]"
      ],
      "execution_count": null,
      "outputs": [
        {
          "output_type": "execute_result",
          "data": {
            "text/html": [
              "<div>\n",
              "<style scoped>\n",
              "    .dataframe tbody tr th:only-of-type {\n",
              "        vertical-align: middle;\n",
              "    }\n",
              "\n",
              "    .dataframe tbody tr th {\n",
              "        vertical-align: top;\n",
              "    }\n",
              "\n",
              "    .dataframe thead th {\n",
              "        text-align: right;\n",
              "    }\n",
              "</style>\n",
              "<table border=\"1\" class=\"dataframe\">\n",
              "  <thead>\n",
              "    <tr style=\"text-align: right;\">\n",
              "      <th></th>\n",
              "      <th>Id</th>\n",
              "      <th>EmployeeName</th>\n",
              "      <th>JobTitle</th>\n",
              "      <th>BasePay</th>\n",
              "      <th>OvertimePay</th>\n",
              "      <th>OtherPay</th>\n",
              "      <th>Benefits</th>\n",
              "      <th>TotalPay</th>\n",
              "      <th>TotalPayBenefits</th>\n",
              "      <th>Year</th>\n",
              "      <th>Notes</th>\n",
              "      <th>Agency</th>\n",
              "      <th>Status</th>\n",
              "    </tr>\n",
              "  </thead>\n",
              "  <tbody>\n",
              "    <tr>\n",
              "      <th>4</th>\n",
              "      <td>5</td>\n",
              "      <td>PATRICK GARDNER</td>\n",
              "      <td>DEPUTY CHIEF OF DEPARTMENT,(FIRE DEPARTMENT)</td>\n",
              "      <td>134402</td>\n",
              "      <td>9737</td>\n",
              "      <td>182235</td>\n",
              "      <td>NaN</td>\n",
              "      <td>326373.19</td>\n",
              "      <td>326373.19</td>\n",
              "      <td>2011</td>\n",
              "      <td>NaN</td>\n",
              "      <td>San Francisco</td>\n",
              "      <td>NaN</td>\n",
              "    </tr>\n",
              "  </tbody>\n",
              "</table>\n",
              "</div>"
            ],
            "text/plain": [
              "   Id     EmployeeName  ...         Agency Status\n",
              "4   5  PATRICK GARDNER  ...  San Francisco    NaN\n",
              "\n",
              "[1 rows x 13 columns]"
            ]
          },
          "metadata": {
            "tags": []
          },
          "execution_count": 13
        }
      ]
    },
    {
      "cell_type": "code",
      "metadata": {
        "id": "6PVHLiNOiyfG",
        "colab": {
          "base_uri": "https://localhost:8080/",
          "height": 1000
        },
        "outputId": "61b0b417-63f2-4dc5-e64a-0351430c9904"
      },
      "source": [
        "df[df.JobTitle\t == \"CAPTAIN III (POLICE DEPARTMENT)\"]"
      ],
      "execution_count": null,
      "outputs": [
        {
          "output_type": "execute_result",
          "data": {
            "text/html": [
              "<div>\n",
              "<style scoped>\n",
              "    .dataframe tbody tr th:only-of-type {\n",
              "        vertical-align: middle;\n",
              "    }\n",
              "\n",
              "    .dataframe tbody tr th {\n",
              "        vertical-align: top;\n",
              "    }\n",
              "\n",
              "    .dataframe thead th {\n",
              "        text-align: right;\n",
              "    }\n",
              "</style>\n",
              "<table border=\"1\" class=\"dataframe\">\n",
              "  <thead>\n",
              "    <tr style=\"text-align: right;\">\n",
              "      <th></th>\n",
              "      <th>Id</th>\n",
              "      <th>EmployeeName</th>\n",
              "      <th>JobTitle</th>\n",
              "      <th>BasePay</th>\n",
              "      <th>OvertimePay</th>\n",
              "      <th>OtherPay</th>\n",
              "      <th>Benefits</th>\n",
              "      <th>TotalPay</th>\n",
              "      <th>TotalPayBenefits</th>\n",
              "      <th>Year</th>\n",
              "      <th>Notes</th>\n",
              "      <th>Agency</th>\n",
              "      <th>Status</th>\n",
              "    </tr>\n",
              "  </thead>\n",
              "  <tbody>\n",
              "    <tr>\n",
              "      <th>1</th>\n",
              "      <td>2</td>\n",
              "      <td>GARY JIMENEZ</td>\n",
              "      <td>CAPTAIN III (POLICE DEPARTMENT)</td>\n",
              "      <td>155966</td>\n",
              "      <td>245132</td>\n",
              "      <td>137811</td>\n",
              "      <td>NaN</td>\n",
              "      <td>538909.28</td>\n",
              "      <td>538909.28</td>\n",
              "      <td>2011</td>\n",
              "      <td>NaN</td>\n",
              "      <td>San Francisco</td>\n",
              "      <td>NaN</td>\n",
              "    </tr>\n",
              "    <tr>\n",
              "      <th>2</th>\n",
              "      <td>3</td>\n",
              "      <td>ALBERT PARDINI</td>\n",
              "      <td>CAPTAIN III (POLICE DEPARTMENT)</td>\n",
              "      <td>212739</td>\n",
              "      <td>106088</td>\n",
              "      <td>16452.6</td>\n",
              "      <td>NaN</td>\n",
              "      <td>335279.91</td>\n",
              "      <td>335279.91</td>\n",
              "      <td>2011</td>\n",
              "      <td>NaN</td>\n",
              "      <td>San Francisco</td>\n",
              "      <td>NaN</td>\n",
              "    </tr>\n",
              "    <tr>\n",
              "      <th>11</th>\n",
              "      <td>12</td>\n",
              "      <td>PATRICIA JACKSON</td>\n",
              "      <td>CAPTAIN III (POLICE DEPARTMENT)</td>\n",
              "      <td>99722</td>\n",
              "      <td>87082.6</td>\n",
              "      <td>110804</td>\n",
              "      <td>NaN</td>\n",
              "      <td>297608.92</td>\n",
              "      <td>297608.92</td>\n",
              "      <td>2011</td>\n",
              "      <td>NaN</td>\n",
              "      <td>San Francisco</td>\n",
              "      <td>NaN</td>\n",
              "    </tr>\n",
              "    <tr>\n",
              "      <th>61</th>\n",
              "      <td>62</td>\n",
              "      <td>ANNA BROWN</td>\n",
              "      <td>CAPTAIN III (POLICE DEPARTMENT)</td>\n",
              "      <td>102571</td>\n",
              "      <td>7437</td>\n",
              "      <td>128544</td>\n",
              "      <td>NaN</td>\n",
              "      <td>238551.88</td>\n",
              "      <td>238551.88</td>\n",
              "      <td>2011</td>\n",
              "      <td>NaN</td>\n",
              "      <td>San Francisco</td>\n",
              "      <td>NaN</td>\n",
              "    </tr>\n",
              "    <tr>\n",
              "      <th>65</th>\n",
              "      <td>66</td>\n",
              "      <td>RICHARD PARRY</td>\n",
              "      <td>CAPTAIN III (POLICE DEPARTMENT)</td>\n",
              "      <td>185370</td>\n",
              "      <td>37873.6</td>\n",
              "      <td>14465.5</td>\n",
              "      <td>NaN</td>\n",
              "      <td>237708.83</td>\n",
              "      <td>237708.83</td>\n",
              "      <td>2011</td>\n",
              "      <td>NaN</td>\n",
              "      <td>San Francisco</td>\n",
              "      <td>NaN</td>\n",
              "    </tr>\n",
              "    <tr>\n",
              "      <th>91</th>\n",
              "      <td>92</td>\n",
              "      <td>DONNA MEIXNER</td>\n",
              "      <td>CAPTAIN III (POLICE DEPARTMENT)</td>\n",
              "      <td>102722</td>\n",
              "      <td>7437</td>\n",
              "      <td>118456</td>\n",
              "      <td>NaN</td>\n",
              "      <td>228615.61</td>\n",
              "      <td>228615.61</td>\n",
              "      <td>2011</td>\n",
              "      <td>NaN</td>\n",
              "      <td>San Francisco</td>\n",
              "      <td>NaN</td>\n",
              "    </tr>\n",
              "    <tr>\n",
              "      <th>93</th>\n",
              "      <td>94</td>\n",
              "      <td>JOHN MURPHY</td>\n",
              "      <td>CAPTAIN III (POLICE DEPARTMENT)</td>\n",
              "      <td>215914</td>\n",
              "      <td>0</td>\n",
              "      <td>12293.8</td>\n",
              "      <td>NaN</td>\n",
              "      <td>228207.86</td>\n",
              "      <td>228207.86</td>\n",
              "      <td>2011</td>\n",
              "      <td>NaN</td>\n",
              "      <td>San Francisco</td>\n",
              "      <td>NaN</td>\n",
              "    </tr>\n",
              "    <tr>\n",
              "      <th>125</th>\n",
              "      <td>126</td>\n",
              "      <td>SHARON FERRIGNO</td>\n",
              "      <td>CAPTAIN III (POLICE DEPARTMENT)</td>\n",
              "      <td>185370</td>\n",
              "      <td>27321.8</td>\n",
              "      <td>4651.44</td>\n",
              "      <td>NaN</td>\n",
              "      <td>217342.95</td>\n",
              "      <td>217342.95</td>\n",
              "      <td>2011</td>\n",
              "      <td>NaN</td>\n",
              "      <td>San Francisco</td>\n",
              "      <td>NaN</td>\n",
              "    </tr>\n",
              "    <tr>\n",
              "      <th>211</th>\n",
              "      <td>212</td>\n",
              "      <td>CROCE CASCIATO</td>\n",
              "      <td>CAPTAIN III (POLICE DEPARTMENT)</td>\n",
              "      <td>188342</td>\n",
              "      <td>0</td>\n",
              "      <td>16206.2</td>\n",
              "      <td>NaN</td>\n",
              "      <td>204547.86</td>\n",
              "      <td>204547.86</td>\n",
              "      <td>2011</td>\n",
              "      <td>NaN</td>\n",
              "      <td>San Francisco</td>\n",
              "      <td>NaN</td>\n",
              "    </tr>\n",
              "    <tr>\n",
              "      <th>214</th>\n",
              "      <td>215</td>\n",
              "      <td>JOHN FEENEY</td>\n",
              "      <td>CAPTAIN III (POLICE DEPARTMENT)</td>\n",
              "      <td>188349</td>\n",
              "      <td>5720.22</td>\n",
              "      <td>10173.4</td>\n",
              "      <td>NaN</td>\n",
              "      <td>204242.20</td>\n",
              "      <td>204242.20</td>\n",
              "      <td>2011</td>\n",
              "      <td>NaN</td>\n",
              "      <td>San Francisco</td>\n",
              "      <td>NaN</td>\n",
              "    </tr>\n",
              "    <tr>\n",
              "      <th>225</th>\n",
              "      <td>226</td>\n",
              "      <td>STEPHEN TACCHINI</td>\n",
              "      <td>CAPTAIN III (POLICE DEPARTMENT)</td>\n",
              "      <td>188342</td>\n",
              "      <td>2258.63</td>\n",
              "      <td>12252.4</td>\n",
              "      <td>NaN</td>\n",
              "      <td>202852.67</td>\n",
              "      <td>202852.67</td>\n",
              "      <td>2011</td>\n",
              "      <td>NaN</td>\n",
              "      <td>San Francisco</td>\n",
              "      <td>NaN</td>\n",
              "    </tr>\n",
              "    <tr>\n",
              "      <th>239</th>\n",
              "      <td>240</td>\n",
              "      <td>GREGORY CORRALES</td>\n",
              "      <td>CAPTAIN III (POLICE DEPARTMENT)</td>\n",
              "      <td>188342</td>\n",
              "      <td>1109.1</td>\n",
              "      <td>12252.7</td>\n",
              "      <td>NaN</td>\n",
              "      <td>201703.44</td>\n",
              "      <td>201703.44</td>\n",
              "      <td>2011</td>\n",
              "      <td>NaN</td>\n",
              "      <td>San Francisco</td>\n",
              "      <td>NaN</td>\n",
              "    </tr>\n",
              "    <tr>\n",
              "      <th>240</th>\n",
              "      <td>241</td>\n",
              "      <td>JOHN EHRLICH</td>\n",
              "      <td>CAPTAIN III (POLICE DEPARTMENT)</td>\n",
              "      <td>188342</td>\n",
              "      <td>1068.45</td>\n",
              "      <td>12211.6</td>\n",
              "      <td>NaN</td>\n",
              "      <td>201621.69</td>\n",
              "      <td>201621.69</td>\n",
              "      <td>2011</td>\n",
              "      <td>NaN</td>\n",
              "      <td>San Francisco</td>\n",
              "      <td>NaN</td>\n",
              "    </tr>\n",
              "    <tr>\n",
              "      <th>248</th>\n",
              "      <td>249</td>\n",
              "      <td>DANIEL MAHONEY</td>\n",
              "      <td>CAPTAIN III (POLICE DEPARTMENT)</td>\n",
              "      <td>196061</td>\n",
              "      <td>0</td>\n",
              "      <td>4749.91</td>\n",
              "      <td>NaN</td>\n",
              "      <td>200811.21</td>\n",
              "      <td>200811.21</td>\n",
              "      <td>2011</td>\n",
              "      <td>NaN</td>\n",
              "      <td>San Francisco</td>\n",
              "      <td>NaN</td>\n",
              "    </tr>\n",
              "    <tr>\n",
              "      <th>252</th>\n",
              "      <td>253</td>\n",
              "      <td>JOHN GOLDBERG</td>\n",
              "      <td>CAPTAIN III (POLICE DEPARTMENT)</td>\n",
              "      <td>188342</td>\n",
              "      <td>0</td>\n",
              "      <td>12119.4</td>\n",
              "      <td>NaN</td>\n",
              "      <td>200461.01</td>\n",
              "      <td>200461.01</td>\n",
              "      <td>2011</td>\n",
              "      <td>NaN</td>\n",
              "      <td>San Francisco</td>\n",
              "      <td>NaN</td>\n",
              "    </tr>\n",
              "    <tr>\n",
              "      <th>253</th>\n",
              "      <td>254</td>\n",
              "      <td>ANTONIO PARRA</td>\n",
              "      <td>CAPTAIN III (POLICE DEPARTMENT)</td>\n",
              "      <td>188342</td>\n",
              "      <td>0</td>\n",
              "      <td>12119.4</td>\n",
              "      <td>NaN</td>\n",
              "      <td>200460.97</td>\n",
              "      <td>200460.97</td>\n",
              "      <td>2011</td>\n",
              "      <td>NaN</td>\n",
              "      <td>San Francisco</td>\n",
              "      <td>NaN</td>\n",
              "    </tr>\n",
              "    <tr>\n",
              "      <th>257</th>\n",
              "      <td>258</td>\n",
              "      <td>KEITH SANFORD</td>\n",
              "      <td>CAPTAIN III (POLICE DEPARTMENT)</td>\n",
              "      <td>188342</td>\n",
              "      <td>1134.34</td>\n",
              "      <td>10799.2</td>\n",
              "      <td>NaN</td>\n",
              "      <td>200275.43</td>\n",
              "      <td>200275.43</td>\n",
              "      <td>2011</td>\n",
              "      <td>NaN</td>\n",
              "      <td>San Francisco</td>\n",
              "      <td>NaN</td>\n",
              "    </tr>\n",
              "    <tr>\n",
              "      <th>261</th>\n",
              "      <td>262</td>\n",
              "      <td>PAUL CHIGNELL</td>\n",
              "      <td>CAPTAIN III (POLICE DEPARTMENT)</td>\n",
              "      <td>188315</td>\n",
              "      <td>0</td>\n",
              "      <td>11547.9</td>\n",
              "      <td>NaN</td>\n",
              "      <td>199862.48</td>\n",
              "      <td>199862.48</td>\n",
              "      <td>2011</td>\n",
              "      <td>NaN</td>\n",
              "      <td>San Francisco</td>\n",
              "      <td>NaN</td>\n",
              "    </tr>\n",
              "    <tr>\n",
              "      <th>274</th>\n",
              "      <td>275</td>\n",
              "      <td>DENIS OLEARY</td>\n",
              "      <td>CAPTAIN III (POLICE DEPARTMENT)</td>\n",
              "      <td>188342</td>\n",
              "      <td>0</td>\n",
              "      <td>10542.7</td>\n",
              "      <td>NaN</td>\n",
              "      <td>198884.32</td>\n",
              "      <td>198884.32</td>\n",
              "      <td>2011</td>\n",
              "      <td>NaN</td>\n",
              "      <td>San Francisco</td>\n",
              "      <td>NaN</td>\n",
              "    </tr>\n",
              "    <tr>\n",
              "      <th>277</th>\n",
              "      <td>278</td>\n",
              "      <td>LOUIS CASSANEGO</td>\n",
              "      <td>CAPTAIN III (POLICE DEPARTMENT)</td>\n",
              "      <td>188342</td>\n",
              "      <td>0</td>\n",
              "      <td>10125</td>\n",
              "      <td>NaN</td>\n",
              "      <td>198466.64</td>\n",
              "      <td>198466.64</td>\n",
              "      <td>2011</td>\n",
              "      <td>NaN</td>\n",
              "      <td>San Francisco</td>\n",
              "      <td>NaN</td>\n",
              "    </tr>\n",
              "    <tr>\n",
              "      <th>284</th>\n",
              "      <td>285</td>\n",
              "      <td>GARRET TOM</td>\n",
              "      <td>CAPTAIN III (POLICE DEPARTMENT)</td>\n",
              "      <td>188342</td>\n",
              "      <td>2886.03</td>\n",
              "      <td>6646.21</td>\n",
              "      <td>NaN</td>\n",
              "      <td>197873.86</td>\n",
              "      <td>197873.86</td>\n",
              "      <td>2011</td>\n",
              "      <td>NaN</td>\n",
              "      <td>San Francisco</td>\n",
              "      <td>NaN</td>\n",
              "    </tr>\n",
              "    <tr>\n",
              "      <th>296</th>\n",
              "      <td>297</td>\n",
              "      <td>DAVID LAZAR</td>\n",
              "      <td>CAPTAIN III (POLICE DEPARTMENT)</td>\n",
              "      <td>195975</td>\n",
              "      <td>0</td>\n",
              "      <td>917.32</td>\n",
              "      <td>NaN</td>\n",
              "      <td>196892.64</td>\n",
              "      <td>196892.64</td>\n",
              "      <td>2011</td>\n",
              "      <td>NaN</td>\n",
              "      <td>San Francisco</td>\n",
              "      <td>NaN</td>\n",
              "    </tr>\n",
              "    <tr>\n",
              "      <th>303</th>\n",
              "      <td>304</td>\n",
              "      <td>DOUGLAS MCEACHERN</td>\n",
              "      <td>CAPTAIN III (POLICE DEPARTMENT)</td>\n",
              "      <td>194566</td>\n",
              "      <td>1109.1</td>\n",
              "      <td>819.03</td>\n",
              "      <td>NaN</td>\n",
              "      <td>196494.14</td>\n",
              "      <td>196494.14</td>\n",
              "      <td>2011</td>\n",
              "      <td>NaN</td>\n",
              "      <td>San Francisco</td>\n",
              "      <td>NaN</td>\n",
              "    </tr>\n",
              "    <tr>\n",
              "      <th>319</th>\n",
              "      <td>320</td>\n",
              "      <td>ANN MANNIX</td>\n",
              "      <td>CAPTAIN III (POLICE DEPARTMENT)</td>\n",
              "      <td>188314</td>\n",
              "      <td>0</td>\n",
              "      <td>7310.63</td>\n",
              "      <td>NaN</td>\n",
              "      <td>195625.13</td>\n",
              "      <td>195625.13</td>\n",
              "      <td>2011</td>\n",
              "      <td>NaN</td>\n",
              "      <td>San Francisco</td>\n",
              "      <td>NaN</td>\n",
              "    </tr>\n",
              "    <tr>\n",
              "      <th>348</th>\n",
              "      <td>349</td>\n",
              "      <td>JOHN GARRITY</td>\n",
              "      <td>CAPTAIN III (POLICE DEPARTMENT)</td>\n",
              "      <td>188342</td>\n",
              "      <td>1131.28</td>\n",
              "      <td>4586.65</td>\n",
              "      <td>NaN</td>\n",
              "      <td>194059.55</td>\n",
              "      <td>194059.55</td>\n",
              "      <td>2011</td>\n",
              "      <td>NaN</td>\n",
              "      <td>San Francisco</td>\n",
              "      <td>NaN</td>\n",
              "    </tr>\n",
              "    <tr>\n",
              "      <th>366</th>\n",
              "      <td>367</td>\n",
              "      <td>JOHN LOFTUS</td>\n",
              "      <td>CAPTAIN III (POLICE DEPARTMENT)</td>\n",
              "      <td>188342</td>\n",
              "      <td>0</td>\n",
              "      <td>4609.75</td>\n",
              "      <td>NaN</td>\n",
              "      <td>192951.37</td>\n",
              "      <td>192951.37</td>\n",
              "      <td>2011</td>\n",
              "      <td>NaN</td>\n",
              "      <td>San Francisco</td>\n",
              "      <td>NaN</td>\n",
              "    </tr>\n",
              "    <tr>\n",
              "      <th>367</th>\n",
              "      <td>368</td>\n",
              "      <td>DOMINIC CELAYA</td>\n",
              "      <td>CAPTAIN III (POLICE DEPARTMENT)</td>\n",
              "      <td>188342</td>\n",
              "      <td>0</td>\n",
              "      <td>4586.67</td>\n",
              "      <td>NaN</td>\n",
              "      <td>192928.31</td>\n",
              "      <td>192928.31</td>\n",
              "      <td>2011</td>\n",
              "      <td>NaN</td>\n",
              "      <td>San Francisco</td>\n",
              "      <td>NaN</td>\n",
              "    </tr>\n",
              "    <tr>\n",
              "      <th>368</th>\n",
              "      <td>369</td>\n",
              "      <td>JOHN SANFORD JR</td>\n",
              "      <td>CAPTAIN III (POLICE DEPARTMENT)</td>\n",
              "      <td>188342</td>\n",
              "      <td>0</td>\n",
              "      <td>4586.66</td>\n",
              "      <td>NaN</td>\n",
              "      <td>192928.28</td>\n",
              "      <td>192928.28</td>\n",
              "      <td>2011</td>\n",
              "      <td>NaN</td>\n",
              "      <td>San Francisco</td>\n",
              "      <td>NaN</td>\n",
              "    </tr>\n",
              "    <tr>\n",
              "      <th>369</th>\n",
              "      <td>370</td>\n",
              "      <td>STEPHEN TITTEL</td>\n",
              "      <td>CAPTAIN III (POLICE DEPARTMENT)</td>\n",
              "      <td>188342</td>\n",
              "      <td>0</td>\n",
              "      <td>4586.63</td>\n",
              "      <td>NaN</td>\n",
              "      <td>192928.23</td>\n",
              "      <td>192928.23</td>\n",
              "      <td>2011</td>\n",
              "      <td>NaN</td>\n",
              "      <td>San Francisco</td>\n",
              "      <td>NaN</td>\n",
              "    </tr>\n",
              "    <tr>\n",
              "      <th>370</th>\n",
              "      <td>371</td>\n",
              "      <td>TERESA BARRETT</td>\n",
              "      <td>CAPTAIN III (POLICE DEPARTMENT)</td>\n",
              "      <td>188328</td>\n",
              "      <td>0</td>\n",
              "      <td>4586.42</td>\n",
              "      <td>NaN</td>\n",
              "      <td>192914.50</td>\n",
              "      <td>192914.50</td>\n",
              "      <td>2011</td>\n",
              "      <td>NaN</td>\n",
              "      <td>San Francisco</td>\n",
              "      <td>NaN</td>\n",
              "    </tr>\n",
              "    <tr>\n",
              "      <th>371</th>\n",
              "      <td>372</td>\n",
              "      <td>VALERIE AGARD</td>\n",
              "      <td>CAPTAIN III (POLICE DEPARTMENT)</td>\n",
              "      <td>185342</td>\n",
              "      <td>3627.67</td>\n",
              "      <td>3936.6</td>\n",
              "      <td>NaN</td>\n",
              "      <td>192906.75</td>\n",
              "      <td>192906.75</td>\n",
              "      <td>2011</td>\n",
              "      <td>NaN</td>\n",
              "      <td>San Francisco</td>\n",
              "      <td>NaN</td>\n",
              "    </tr>\n",
              "    <tr>\n",
              "      <th>396</th>\n",
              "      <td>397</td>\n",
              "      <td>CHARLIE ORKES</td>\n",
              "      <td>CAPTAIN III (POLICE DEPARTMENT)</td>\n",
              "      <td>188342</td>\n",
              "      <td>1109.1</td>\n",
              "      <td>1954.26</td>\n",
              "      <td>NaN</td>\n",
              "      <td>191404.96</td>\n",
              "      <td>191404.96</td>\n",
              "      <td>2011</td>\n",
              "      <td>NaN</td>\n",
              "      <td>San Francisco</td>\n",
              "      <td>NaN</td>\n",
              "    </tr>\n",
              "    <tr>\n",
              "      <th>425</th>\n",
              "      <td>426</td>\n",
              "      <td>MICHAEL CONNOLLY</td>\n",
              "      <td>CAPTAIN III (POLICE DEPARTMENT)</td>\n",
              "      <td>188342</td>\n",
              "      <td>0</td>\n",
              "      <td>915.59</td>\n",
              "      <td>NaN</td>\n",
              "      <td>189257.22</td>\n",
              "      <td>189257.22</td>\n",
              "      <td>2011</td>\n",
              "      <td>NaN</td>\n",
              "      <td>San Francisco</td>\n",
              "      <td>NaN</td>\n",
              "    </tr>\n",
              "    <tr>\n",
              "      <th>525</th>\n",
              "      <td>526</td>\n",
              "      <td>CURTIS LUM</td>\n",
              "      <td>CAPTAIN III (POLICE DEPARTMENT)</td>\n",
              "      <td>184701</td>\n",
              "      <td>0</td>\n",
              "      <td>851.04</td>\n",
              "      <td>NaN</td>\n",
              "      <td>185552.01</td>\n",
              "      <td>185552.01</td>\n",
              "      <td>2011</td>\n",
              "      <td>NaN</td>\n",
              "      <td>San Francisco</td>\n",
              "      <td>NaN</td>\n",
              "    </tr>\n",
              "    <tr>\n",
              "      <th>912</th>\n",
              "      <td>913</td>\n",
              "      <td>SYLVIA HARPER</td>\n",
              "      <td>CAPTAIN III (POLICE DEPARTMENT)</td>\n",
              "      <td>71230</td>\n",
              "      <td>0</td>\n",
              "      <td>101242</td>\n",
              "      <td>NaN</td>\n",
              "      <td>172472.15</td>\n",
              "      <td>172472.15</td>\n",
              "      <td>2011</td>\n",
              "      <td>NaN</td>\n",
              "      <td>San Francisco</td>\n",
              "      <td>NaN</td>\n",
              "    </tr>\n",
              "    <tr>\n",
              "      <th>4143</th>\n",
              "      <td>4144</td>\n",
              "      <td>ANTHONY FOTINOS</td>\n",
              "      <td>CAPTAIN III (POLICE DEPARTMENT)</td>\n",
              "      <td>42738</td>\n",
              "      <td>47827.7</td>\n",
              "      <td>39904.7</td>\n",
              "      <td>NaN</td>\n",
              "      <td>130470.42</td>\n",
              "      <td>130470.42</td>\n",
              "      <td>2011</td>\n",
              "      <td>NaN</td>\n",
              "      <td>San Francisco</td>\n",
              "      <td>NaN</td>\n",
              "    </tr>\n",
              "    <tr>\n",
              "      <th>11198</th>\n",
              "      <td>11199</td>\n",
              "      <td>KATHRYN BROWN</td>\n",
              "      <td>CAPTAIN III (POLICE DEPARTMENT)</td>\n",
              "      <td>10684.5</td>\n",
              "      <td>0</td>\n",
              "      <td>81244.9</td>\n",
              "      <td>NaN</td>\n",
              "      <td>91929.37</td>\n",
              "      <td>91929.37</td>\n",
              "      <td>2011</td>\n",
              "      <td>NaN</td>\n",
              "      <td>San Francisco</td>\n",
              "      <td>NaN</td>\n",
              "    </tr>\n",
              "  </tbody>\n",
              "</table>\n",
              "</div>"
            ],
            "text/plain": [
              "          Id       EmployeeName  ...         Agency Status\n",
              "1          2       GARY JIMENEZ  ...  San Francisco    NaN\n",
              "2          3     ALBERT PARDINI  ...  San Francisco    NaN\n",
              "11        12   PATRICIA JACKSON  ...  San Francisco    NaN\n",
              "61        62         ANNA BROWN  ...  San Francisco    NaN\n",
              "65        66      RICHARD PARRY  ...  San Francisco    NaN\n",
              "91        92      DONNA MEIXNER  ...  San Francisco    NaN\n",
              "93        94        JOHN MURPHY  ...  San Francisco    NaN\n",
              "125      126    SHARON FERRIGNO  ...  San Francisco    NaN\n",
              "211      212     CROCE CASCIATO  ...  San Francisco    NaN\n",
              "214      215        JOHN FEENEY  ...  San Francisco    NaN\n",
              "225      226   STEPHEN TACCHINI  ...  San Francisco    NaN\n",
              "239      240   GREGORY CORRALES  ...  San Francisco    NaN\n",
              "240      241       JOHN EHRLICH  ...  San Francisco    NaN\n",
              "248      249     DANIEL MAHONEY  ...  San Francisco    NaN\n",
              "252      253      JOHN GOLDBERG  ...  San Francisco    NaN\n",
              "253      254      ANTONIO PARRA  ...  San Francisco    NaN\n",
              "257      258      KEITH SANFORD  ...  San Francisco    NaN\n",
              "261      262      PAUL CHIGNELL  ...  San Francisco    NaN\n",
              "274      275       DENIS OLEARY  ...  San Francisco    NaN\n",
              "277      278    LOUIS CASSANEGO  ...  San Francisco    NaN\n",
              "284      285         GARRET TOM  ...  San Francisco    NaN\n",
              "296      297        DAVID LAZAR  ...  San Francisco    NaN\n",
              "303      304  DOUGLAS MCEACHERN  ...  San Francisco    NaN\n",
              "319      320         ANN MANNIX  ...  San Francisco    NaN\n",
              "348      349       JOHN GARRITY  ...  San Francisco    NaN\n",
              "366      367        JOHN LOFTUS  ...  San Francisco    NaN\n",
              "367      368     DOMINIC CELAYA  ...  San Francisco    NaN\n",
              "368      369    JOHN SANFORD JR  ...  San Francisco    NaN\n",
              "369      370     STEPHEN TITTEL  ...  San Francisco    NaN\n",
              "370      371     TERESA BARRETT  ...  San Francisco    NaN\n",
              "371      372      VALERIE AGARD  ...  San Francisco    NaN\n",
              "396      397      CHARLIE ORKES  ...  San Francisco    NaN\n",
              "425      426   MICHAEL CONNOLLY  ...  San Francisco    NaN\n",
              "525      526         CURTIS LUM  ...  San Francisco    NaN\n",
              "912      913      SYLVIA HARPER  ...  San Francisco    NaN\n",
              "4143    4144    ANTHONY FOTINOS  ...  San Francisco    NaN\n",
              "11198  11199      KATHRYN BROWN  ...  San Francisco    NaN\n",
              "\n",
              "[37 rows x 13 columns]"
            ]
          },
          "metadata": {
            "tags": []
          },
          "execution_count": 19
        }
      ]
    },
    {
      "cell_type": "code",
      "metadata": {
        "id": "pBlhiswckJL8",
        "colab": {
          "base_uri": "https://localhost:8080/",
          "height": 663
        },
        "outputId": "a606fdf8-3981-430b-9b47-d9a9a2bc54af"
      },
      "source": [
        "df.loc[df.JobTitle == \"CAPTAIN III (POLICE DEPARTMENT)\",\"Id\"]"
      ],
      "execution_count": null,
      "outputs": [
        {
          "output_type": "execute_result",
          "data": {
            "text/plain": [
              "1            2\n",
              "2            3\n",
              "11          12\n",
              "61          62\n",
              "65          66\n",
              "91          92\n",
              "93          94\n",
              "125        126\n",
              "211        212\n",
              "214        215\n",
              "225        226\n",
              "239        240\n",
              "240        241\n",
              "248        249\n",
              "252        253\n",
              "253        254\n",
              "257        258\n",
              "261        262\n",
              "274        275\n",
              "277        278\n",
              "284        285\n",
              "296        297\n",
              "303        304\n",
              "319        320\n",
              "348        349\n",
              "366        367\n",
              "367        368\n",
              "368        369\n",
              "369        370\n",
              "370        371\n",
              "371        372\n",
              "396        397\n",
              "425        426\n",
              "525        526\n",
              "912        913\n",
              "4143      4144\n",
              "11198    11199\n",
              "Name: Id, dtype: int64"
            ]
          },
          "metadata": {
            "tags": []
          },
          "execution_count": 24
        }
      ]
    },
    {
      "cell_type": "code",
      "metadata": {
        "id": "Lue8bKzrlRKs",
        "colab": {
          "base_uri": "https://localhost:8080/",
          "height": 119
        },
        "outputId": "57c010ba-f492-4bf2-f83a-85688796d005"
      },
      "source": [
        "df[(\"Id\")].head()"
      ],
      "execution_count": null,
      "outputs": [
        {
          "output_type": "execute_result",
          "data": {
            "text/plain": [
              "0    1\n",
              "1    2\n",
              "2    3\n",
              "3    4\n",
              "4    5\n",
              "Name: Id, dtype: int64"
            ]
          },
          "metadata": {
            "tags": []
          },
          "execution_count": 25
        }
      ]
    },
    {
      "cell_type": "code",
      "metadata": {
        "id": "wLAdo9O_lfor"
      },
      "source": [
        "columns = df.columns\n",
        "id_cols = ['Id','EmployeeName','JobTitle','BasePay','OvertimePay','OtherPay','TotalPay','TotalPayBenefits','Year','Agency']\n",
        "columns = list(set(columns)-set(id_cols))"
      ],
      "execution_count": null,
      "outputs": []
    },
    {
      "cell_type": "code",
      "metadata": {
        "id": "jMzEhuKYnbvl",
        "colab": {
          "base_uri": "https://localhost:8080/",
          "height": 34
        },
        "outputId": "32397f60-8c4e-4115-b0b2-b9ce3d995616"
      },
      "source": [
        "columns"
      ],
      "execution_count": null,
      "outputs": [
        {
          "output_type": "execute_result",
          "data": {
            "text/plain": [
              "['Benefits', 'Status', 'Notes']"
            ]
          },
          "metadata": {
            "tags": []
          },
          "execution_count": 29
        }
      ]
    },
    {
      "cell_type": "code",
      "metadata": {
        "id": "30Mi8aSZnoPy",
        "colab": {
          "base_uri": "https://localhost:8080/",
          "height": 119
        },
        "outputId": "67ae066f-8a03-485b-cdf0-52bf1db09fe2"
      },
      "source": [
        "df.Benefits.head()"
      ],
      "execution_count": null,
      "outputs": [
        {
          "output_type": "execute_result",
          "data": {
            "text/plain": [
              "0    NaN\n",
              "1    NaN\n",
              "2    NaN\n",
              "3    NaN\n",
              "4    NaN\n",
              "Name: Benefits, dtype: object"
            ]
          },
          "metadata": {
            "tags": []
          },
          "execution_count": 34
        }
      ]
    },
    {
      "cell_type": "code",
      "metadata": {
        "id": "4eQGYh83qLXO",
        "colab": {
          "base_uri": "https://localhost:8080/",
          "height": 119
        },
        "outputId": "bb633c54-2cb5-4dc1-d01f-e171c418ec47"
      },
      "source": [
        "df.Status.head(\n",
        "    \n",
        ")"
      ],
      "execution_count": null,
      "outputs": [
        {
          "output_type": "execute_result",
          "data": {
            "text/plain": [
              "0    NaN\n",
              "1    NaN\n",
              "2    NaN\n",
              "3    NaN\n",
              "4    NaN\n",
              "Name: Status, dtype: object"
            ]
          },
          "metadata": {
            "tags": []
          },
          "execution_count": 35
        }
      ]
    },
    {
      "cell_type": "code",
      "metadata": {
        "id": "3VoCihH7qTXc",
        "colab": {
          "base_uri": "https://localhost:8080/",
          "height": 119
        },
        "outputId": "6518f205-9b2e-4bc3-83aa-4a506769d70a"
      },
      "source": [
        "df.Notes.head()"
      ],
      "execution_count": null,
      "outputs": [
        {
          "output_type": "execute_result",
          "data": {
            "text/plain": [
              "0   NaN\n",
              "1   NaN\n",
              "2   NaN\n",
              "3   NaN\n",
              "4   NaN\n",
              "Name: Notes, dtype: float64"
            ]
          },
          "metadata": {
            "tags": []
          },
          "execution_count": 36
        }
      ]
    },
    {
      "cell_type": "code",
      "metadata": {
        "id": "dKILPOUBqZ43",
        "colab": {
          "base_uri": "https://localhost:8080/",
          "height": 255
        },
        "outputId": "f6058926-e866-4f2c-9413-009a14c44935"
      },
      "source": [
        "df.dtypes"
      ],
      "execution_count": null,
      "outputs": [
        {
          "output_type": "execute_result",
          "data": {
            "text/plain": [
              "Id                    int64\n",
              "EmployeeName         object\n",
              "JobTitle             object\n",
              "BasePay              object\n",
              "OvertimePay          object\n",
              "OtherPay             object\n",
              "Benefits             object\n",
              "TotalPay            float64\n",
              "TotalPayBenefits    float64\n",
              "Year                  int64\n",
              "Notes               float64\n",
              "Agency               object\n",
              "Status               object\n",
              "dtype: object"
            ]
          },
          "metadata": {
            "tags": []
          },
          "execution_count": 37
        }
      ]
    },
    {
      "cell_type": "code",
      "metadata": {
        "id": "5G430xJSqfbq",
        "colab": {
          "base_uri": "https://localhost:8080/",
          "height": 357
        },
        "outputId": "0207db2c-3fec-45b8-80d6-6d1912d45bf1"
      },
      "source": [
        "df.info()"
      ],
      "execution_count": null,
      "outputs": [
        {
          "output_type": "stream",
          "text": [
            "<class 'pandas.core.frame.DataFrame'>\n",
            "RangeIndex: 148654 entries, 0 to 148653\n",
            "Data columns (total 13 columns):\n",
            " #   Column            Non-Null Count   Dtype  \n",
            "---  ------            --------------   -----  \n",
            " 0   Id                148654 non-null  int64  \n",
            " 1   EmployeeName      148654 non-null  object \n",
            " 2   JobTitle          148654 non-null  object \n",
            " 3   BasePay           148049 non-null  object \n",
            " 4   OvertimePay       148654 non-null  object \n",
            " 5   OtherPay          148654 non-null  object \n",
            " 6   Benefits          112495 non-null  object \n",
            " 7   TotalPay          148654 non-null  float64\n",
            " 8   TotalPayBenefits  148654 non-null  float64\n",
            " 9   Year              148654 non-null  int64  \n",
            " 10  Notes             0 non-null       float64\n",
            " 11  Agency            148654 non-null  object \n",
            " 12  Status            38119 non-null   object \n",
            "dtypes: float64(3), int64(2), object(8)\n",
            "memory usage: 14.7+ MB\n"
          ],
          "name": "stdout"
        }
      ]
    },
    {
      "cell_type": "code",
      "metadata": {
        "id": "0iAjiXfTsiHv",
        "colab": {
          "base_uri": "https://localhost:8080/",
          "height": 51
        },
        "outputId": "a9635279-c323-4785-a4ed-c41b68af9945"
      },
      "source": [
        "patrick_garner = df[df['EmployeeName'] == 'PATRICK GARDNER']\n",
        "patrick_garner['JobTitle']"
      ],
      "execution_count": null,
      "outputs": [
        {
          "output_type": "execute_result",
          "data": {
            "text/plain": [
              "4    DEPUTY CHIEF OF DEPARTMENT,(FIRE DEPARTMENT)\n",
              "Name: JobTitle, dtype: object"
            ]
          },
          "metadata": {
            "tags": []
          },
          "execution_count": 44
        }
      ]
    },
    {
      "cell_type": "code",
      "metadata": {
        "id": "_gFNZjfZtDQZ",
        "colab": {
          "base_uri": "https://localhost:8080/",
          "height": 51
        },
        "outputId": "3a99d86a-d560-4c27-bad8-e7bd0ac3e7e0"
      },
      "source": [
        "patrick_garner['TotalPayBenefits']"
      ],
      "execution_count": null,
      "outputs": [
        {
          "output_type": "execute_result",
          "data": {
            "text/plain": [
              "4    326373.19\n",
              "Name: TotalPayBenefits, dtype: float64"
            ]
          },
          "metadata": {
            "tags": []
          },
          "execution_count": 45
        }
      ]
    },
    {
      "cell_type": "code",
      "metadata": {
        "id": "NHT_-UzdtJlJ",
        "colab": {
          "base_uri": "https://localhost:8080/",
          "height": 35
        },
        "outputId": "4c7846e0-51a9-4105-8edb-0080c43f699d"
      },
      "source": [
        "highest_salary = df.loc[df['TotalPayBenefits'].idxmax()]\n",
        "highest_salary['EmployeeName']"
      ],
      "execution_count": null,
      "outputs": [
        {
          "output_type": "execute_result",
          "data": {
            "application/vnd.google.colaboratory.intrinsic+json": {
              "type": "string"
            },
            "text/plain": [
              "'NATHANIEL FORD'"
            ]
          },
          "metadata": {
            "tags": []
          },
          "execution_count": 47
        }
      ]
    },
    {
      "cell_type": "code",
      "metadata": {
        "id": "8Y9ugEfHtUnb",
        "colab": {
          "base_uri": "https://localhost:8080/",
          "height": 255
        },
        "outputId": "6b0633f0-dd3f-4a31-e78c-a1955b6361cd"
      },
      "source": [
        "lowest_salary = df.loc[df['TotalPayBenefits'].idxmin()]\n",
        "lowest_salary"
      ],
      "execution_count": null,
      "outputs": [
        {
          "output_type": "execute_result",
          "data": {
            "text/plain": [
              "Id                                      148654\n",
              "EmployeeName                         Joe Lopez\n",
              "JobTitle            Counselor, Log Cabin Ranch\n",
              "BasePay                                   0.00\n",
              "OvertimePay                               0.00\n",
              "OtherPay                               -618.13\n",
              "Benefits                                  0.00\n",
              "TotalPay                               -618.13\n",
              "TotalPayBenefits                       -618.13\n",
              "Year                                      2014\n",
              "Notes                                      NaN\n",
              "Agency                           San Francisco\n",
              "Status                                      PT\n",
              "Name: 148653, dtype: object"
            ]
          },
          "metadata": {
            "tags": []
          },
          "execution_count": 48
        }
      ]
    },
    {
      "cell_type": "code",
      "metadata": {
        "id": "H7qMFGWUtleR",
        "colab": {
          "base_uri": "https://localhost:8080/",
          "height": 34
        },
        "outputId": "6fd39a06-c25b-468a-c551-7cdf3f240194"
      },
      "source": [
        "df.groupby('JobTitle')"
      ],
      "execution_count": null,
      "outputs": [
        {
          "output_type": "execute_result",
          "data": {
            "text/plain": [
              "<pandas.core.groupby.generic.DataFrameGroupBy object at 0x7fa25632b080>"
            ]
          },
          "metadata": {
            "tags": []
          },
          "execution_count": 51
        }
      ]
    },
    {
      "cell_type": "code",
      "metadata": {
        "id": "71Lj9jPzuH_m",
        "colab": {
          "base_uri": "https://localhost:8080/",
          "height": 221
        },
        "outputId": "9288eef0-3c49-4eb4-dec2-27936d60a4b2"
      },
      "source": [
        "df.groupby('JobTitle')['Id'].head()"
      ],
      "execution_count": null,
      "outputs": [
        {
          "output_type": "execute_result",
          "data": {
            "text/plain": [
              "0              1\n",
              "1              2\n",
              "2              3\n",
              "3              4\n",
              "4              5\n",
              "           ...  \n",
              "147887    147888\n",
              "148646    148647\n",
              "148650    148651\n",
              "148651    148652\n",
              "148652    148653\n",
              "Name: Id, Length: 8945, dtype: int64"
            ]
          },
          "metadata": {
            "tags": []
          },
          "execution_count": 55
        }
      ]
    },
    {
      "cell_type": "code",
      "metadata": {
        "id": "WWX508GHuutG",
        "colab": {
          "base_uri": "https://localhost:8080/",
          "height": 119
        },
        "outputId": "12e7283f-8876-4d11-d410-67cdf3cd908d"
      },
      "source": [
        "df['JobTitle'].value_counts().head(5)"
      ],
      "execution_count": null,
      "outputs": [
        {
          "output_type": "execute_result",
          "data": {
            "text/plain": [
              "Transit Operator                7036\n",
              "Special Nurse                   4389\n",
              "Registered Nurse                3736\n",
              "Public Svc Aide-Public Works    2518\n",
              "Police Officer 3                2421\n",
              "Name: JobTitle, dtype: int64"
            ]
          },
          "metadata": {
            "tags": []
          },
          "execution_count": 56
        }
      ]
    },
    {
      "cell_type": "code",
      "metadata": {
        "id": "4utZceZjvBGi",
        "colab": {
          "base_uri": "https://localhost:8080/",
          "height": 238
        },
        "outputId": "8215e83c-f72e-47d2-d9d8-6765f995db48"
      },
      "source": [
        "df.groupby('JobTitle').mean()['TotalPay']"
      ],
      "execution_count": null,
      "outputs": [
        {
          "output_type": "execute_result",
          "data": {
            "text/plain": [
              "JobTitle\n",
              "ACCOUNT CLERK                                     44035.664337\n",
              "ACCOUNTANT                                        47429.268000\n",
              "ACCOUNTANT INTERN                                 29031.742917\n",
              "ACPO,JuvP, Juv Prob (SFERS)                       62290.780000\n",
              "ACUPUNCTURIST                                     67594.400000\n",
              "                                                      ...     \n",
              "X-RAY LABORATORY AIDE                             52705.880385\n",
              "X-Ray Laboratory Aide                             50823.942700\n",
              "YOUTH COMMISSION ADVISOR, BOARD OF SUPERVISORS    53632.870000\n",
              "Youth Comm Advisor                                41414.307500\n",
              "ZOO CURATOR                                       66686.560000\n",
              "Name: TotalPay, Length: 2159, dtype: float64"
            ]
          },
          "metadata": {
            "tags": []
          },
          "execution_count": 83
        }
      ]
    },
    {
      "cell_type": "code",
      "metadata": {
        "id": "yrZ5f_mkvmxh",
        "colab": {
          "base_uri": "https://localhost:8080/",
          "height": 255
        },
        "outputId": "8b13573c-d64e-444f-e746-f23b2e4fd3f3"
      },
      "source": [
        "df.dtypes"
      ],
      "execution_count": null,
      "outputs": [
        {
          "output_type": "execute_result",
          "data": {
            "text/plain": [
              "Id                    int64\n",
              "EmployeeName         object\n",
              "JobTitle             object\n",
              "BasePay              object\n",
              "OvertimePay          object\n",
              "OtherPay             object\n",
              "Benefits             object\n",
              "TotalPay            float64\n",
              "TotalPayBenefits    float64\n",
              "Year                  int64\n",
              "Notes               float64\n",
              "Agency               object\n",
              "Status               object\n",
              "dtype: object"
            ]
          },
          "metadata": {
            "tags": []
          },
          "execution_count": 61
        }
      ]
    },
    {
      "cell_type": "code",
      "metadata": {
        "id": "TNn_SowGvxqo"
      },
      "source": [
        "df['EmployeeName'] = df['EmployeeName'].astype('category')\n",
        "df['JobTitle'] = df['JobTitle'].astype('category')\n",
        "df['BasePay'] = df['BasePay'].astype('category')\n",
        "df['OtherPay'] = df['OtherPay'].astype('category')\n",
        "df['Benefits'] = df['Benefits'].astype('category')\n",
        "df['Agency'] = df['Agency'].astype('category')\n",
        "df['Status'] = df['Status'].astype('category')\n"
      ],
      "execution_count": null,
      "outputs": []
    },
    {
      "cell_type": "code",
      "metadata": {
        "id": "jRkwC877w-49",
        "colab": {
          "base_uri": "https://localhost:8080/",
          "height": 255
        },
        "outputId": "f4417723-3ba5-4d17-92da-145ed840f05a"
      },
      "source": [
        "df.dtypes"
      ],
      "execution_count": null,
      "outputs": [
        {
          "output_type": "execute_result",
          "data": {
            "text/plain": [
              "Id                     int64\n",
              "EmployeeName        category\n",
              "JobTitle            category\n",
              "BasePay             category\n",
              "OvertimePay           object\n",
              "OtherPay            category\n",
              "Benefits            category\n",
              "TotalPay             float64\n",
              "TotalPayBenefits     float64\n",
              "Year                   int64\n",
              "Notes                float64\n",
              "Agency              category\n",
              "Status              category\n",
              "dtype: object"
            ]
          },
          "metadata": {
            "tags": []
          },
          "execution_count": 64
        }
      ]
    },
    {
      "cell_type": "code",
      "metadata": {
        "id": "QlHBvNoqxBup"
      },
      "source": [
        "df.to_csv('dataset_clean.csv',index=False, sep=';',encoding='utf-8')"
      ],
      "execution_count": null,
      "outputs": []
    },
    {
      "cell_type": "code",
      "metadata": {
        "id": "0HevEmxTyHUq",
        "colab": {
          "base_uri": "https://localhost:8080/",
          "height": 295
        },
        "outputId": "79987e7f-fb2c-4e55-ed4a-c71cb9a1f6ea"
      },
      "source": [
        "import matplotlib.pyplot as plt\n",
        "fig, ax=plt.subplots()\n",
        "ax.scatter(x=df['Year'],y=df['TotalPay'])\n",
        "n=ax.set(\n",
        "    xlabel='Year',\n",
        "    ylabel='TotalPay',\n",
        "    title ='TotalPay vs Year'\n",
        ")"
      ],
      "execution_count": null,
      "outputs": [
        {
          "output_type": "display_data",
          "data": {
            "image/png": "[encoded data removed]",
            "text/plain": [
              "<Figure size 432x288 with 1 Axes>"
            ]
          },
          "metadata": {
            "tags": [],
            "needs_background": "light"
          }
        }
      ]
    },
    {
      "cell_type": "code",
      "metadata": {
        "id": "zTogN8h22ZUd",
        "colab": {
          "base_uri": "https://localhost:8080/",
          "height": 296
        },
        "outputId": "a5877173-1696-4eeb-b84a-c4c7be89de2b"
      },
      "source": [
        "df.loc[df.JobTitle == 'CAPTAIN III (POLICE DEPARTMENT)'].plot(x='Year',y='TotalPay')"
      ],
      "execution_count": null,
      "outputs": [
        {
          "output_type": "execute_result",
          "data": {
            "text/plain": [
              "<matplotlib.axes._subplots.AxesSubplot at 0x7fa2522b3080>"
            ]
          },
          "metadata": {
            "tags": []
          },
          "execution_count": 82
        },
        {
          "output_type": "display_data",
          "data": {
            "image/png": "[encoded data removed]",
            "text/plain": [
              "<Figure size 432x288 with 1 Axes>"
            ]
          },
          "metadata": {
            "tags": [],
            "needs_background": "light"
          }
        }
      ]
    }
  ]
}